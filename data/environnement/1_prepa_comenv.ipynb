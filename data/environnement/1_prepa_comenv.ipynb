{
 "cells": [
  {
   "cell_type": "code",
   "execution_count": null,
   "id": "158e9966-c65d-4fba-abce-7e5e3a8e154b",
   "metadata": {},
   "outputs": [],
   "source": [
    "import pandas as pd\n",
    "import geopandas as gpd\n",
    "import unicodedata,time,os,csv\n",
    "from datetime import datetime\n",
    "import requests\n",
    "import os, glob\n",
    "import io\n",
    "from zipfile import ZipFile"
   ]
  },
  {
   "cell_type": "markdown",
   "id": "5b540bbf-3d67-466c-87d3-5a5e383e7ce2",
   "metadata": {},
   "source": [
    "Téléchargement des aires urbaines"
   ]
  },
  {
   "cell_type": "code",
   "execution_count": null,
   "id": "9708f53e-541f-433b-8167-72f5844a313c",
   "metadata": {},
   "outputs": [],
   "source": [
    "url =  r\"https://www.insee.fr/fr/statistiques/fichier/4803954/AAV2020_au_01-01-2022.zip\"\n",
    "\n",
    "r = requests.get(url, allow_redirects=True)\n",
    "open('AAV2020_au_01-01-2022.zip', 'wb').write(r.content)\n",
    "\n",
    "def read_zip(zip_fn, extract_fn=None):\n",
    "    zf = ZipFile(zip_fn)\n",
    "    if extract_fn:\n",
    "        return zf.read(extract_fn)\n",
    "    else:\n",
    "        return {name:zf.read(name) for name in zf.namelist()}\n",
    "    \n",
    "df_ZAU = pd.read_excel(io.BytesIO(read_zip(r'AAV2020_au_01-01-2022.zip', 'AAV2020_au_01-01-2022.xlsx')),sheet_name=1,skiprows=5)\n",
    "\n",
    "df_ZAU.head()"
   ]
  },
  {
   "cell_type": "markdown",
   "id": "1ded44c0-cab4-45f7-9e93-ec6c045ef38b",
   "metadata": {},
   "source": [
    "Récupération dans  de la couche des communes"
   ]
  },
  {
   "cell_type": "code",
   "execution_count": null,
   "id": "178b6f96-165e-4845-9ebe-90670bcd51fc",
   "metadata": {},
   "outputs": [],
   "source": [
    "# url =  r\"https://www.insee.fr/fr/statistiques/fichier/4803954/fonds_aav2020_2022.zip\"\n",
    "df_com = gpd.GeoDataFrame.from_file(\"./data/communes_2022/COMMUNE.shp\")\n",
    "df_com.rename(columns={'INSEE_COM':'CODGEO'},inplace=True)"
   ]
  },
  {
   "cell_type": "code",
   "execution_count": null,
   "id": "3fb38edb-80af-4dbb-a798-f791f69e27c2",
   "metadata": {},
   "outputs": [],
   "source": [
    "df_com = pd.merge(df_com,df_ZAU[[\"CODGEO\",\"CATEAAV2020\",'AAV2020']],left_on='CODGEO', right_on='CODGEO')"
   ]
  },
  {
   "cell_type": "code",
   "execution_count": null,
   "id": "c833a22d-2de0-4889-a728-91e1c0adc963",
   "metadata": {},
   "outputs": [],
   "source": [
    "#groupby des ZAU avec somme de la population\n",
    "df_ZAUgpy = df_com.groupby(['AAV2020'])['POPULATION'].sum().reset_index()\n",
    "\n",
    "# Jointure du groupby avec les communes\n",
    "df_com = pd.merge(df_com,df_ZAUgpy,left_on='AAV2020', right_on='AAV2020')\n",
    "\n",
    "# On renomme les colonnes\n",
    "df_com.rename(columns={\"POPULATION_x\": \"population\", \"POPULATION_y\": \"poppuzau\"},inplace=True)\n",
    "\n",
    "# On supprime les colonnes inutiles\n",
    "df_com.drop(columns=[\"INSEE_CAN\",'INSEE_ARR','ID','SIREN_EPCI'],inplace= True)"
   ]
  },
  {
   "cell_type": "code",
   "execution_count": null,
   "id": "f0b7601c-04f6-47ee-a329-2993d9f9b11c",
   "metadata": {},
   "outputs": [],
   "source": [
    "df_com = df_com.to_crs(\"EPSG:3857\")"
   ]
  },
  {
   "cell_type": "code",
   "execution_count": null,
   "id": "24c0d2f2-9116-437d-8fa8-46873570fc58",
   "metadata": {},
   "outputs": [],
   "source": [
    "df_com.to_file(\"com_zau.gpkg\", layer='com_zau', driver=\"GPKG\")"
   ]
  }
 ],
 "metadata": {
  "kernelspec": {
   "display_name": "geo",
   "language": "python",
   "name": "geo"
  },
  "language_info": {
   "codemirror_mode": {
    "name": "ipython",
    "version": 3
   },
   "file_extension": ".py",
   "mimetype": "text/x-python",
   "name": "python",
   "nbconvert_exporter": "python",
   "pygments_lexer": "ipython3",
   "version": "3.7.13"
  }
 },
 "nbformat": 4,
 "nbformat_minor": 5
}
