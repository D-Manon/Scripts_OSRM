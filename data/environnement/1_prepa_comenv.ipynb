{
 "cells": [
  {
   "cell_type": "code",
   "execution_count": null,
   "id": "158e9966-c65d-4fba-abce-7e5e3a8e154b",
   "metadata": {},
   "outputs": [],
   "source": [
    "import pandas as pd\n",
    "import geopandas as gpd\n",
    "import unicodedata,time,os,csv\n",
    "from datetime import datetime\n",
    "import requests\n",
    "import os, glob\n",
    "import io\n",
    "from zipfile import ZipFile"
   ]
  },
  {
   "cell_type": "markdown",
   "id": "9a7ea1d8-47b0-469e-90aa-997c90a525fc",
   "metadata": {},
   "source": [
    "## Partie 1 : préparation des données communales"
   ]
  },
  {
   "cell_type": "markdown",
   "id": "5b540bbf-3d67-466c-87d3-5a5e383e7ce2",
   "metadata": {},
   "source": [
    "Téléchargement des aires urbaines"
   ]
  },
  {
   "cell_type": "code",
   "execution_count": null,
   "id": "9708f53e-541f-433b-8167-72f5844a313c",
   "metadata": {},
   "outputs": [],
   "source": [
    "url =  r\"https://www.insee.fr/fr/statistiques/fichier/4803954/AAV2020_au_01-01-2022.zip\"\n",
    "\n",
    "r = requests.get(url, allow_redirects=True)\n",
    "open('AAV2020_au_01-01-2022.zip', 'wb').write(r.content)\n",
    "\n",
    "def read_zip(zip_fn, extract_fn=None):\n",
    "    zf = ZipFile(zip_fn)\n",
    "    if extract_fn:\n",
    "        return zf.read(extract_fn)\n",
    "    else:\n",
    "        return {name:zf.read(name) for name in zf.namelist()}\n",
    "    \n",
    "df_ZAU = pd.read_excel(io.BytesIO(read_zip(r'AAV2020_au_01-01-2022.zip', 'AAV2020_au_01-01-2022.xlsx')),sheet_name=1,skiprows=5)\n",
    "\n",
    "df_ZAU.head()"
   ]
  },
  {
   "cell_type": "markdown",
   "id": "1ded44c0-cab4-45f7-9e93-ec6c045ef38b",
   "metadata": {},
   "source": [
    "Récupération dans  de la couche des communes"
   ]
  },
  {
   "cell_type": "code",
   "execution_count": null,
   "id": "178b6f96-165e-4845-9ebe-90670bcd51fc",
   "metadata": {},
   "outputs": [],
   "source": [
    "# url =  r\"https://www.insee.fr/fr/statistiques/fichier/4803954/fonds_aav2020_2022.zip\"\n",
    "df_com = gpd.GeoDataFrame.from_file(\"./data/communes_2022/COMMUNE.shp\")\n",
    "df_com.rename(columns={'INSEE_COM':'CODGEO'},inplace=True)"
   ]
  },
  {
   "cell_type": "code",
   "execution_count": null,
   "id": "3fb38edb-80af-4dbb-a798-f791f69e27c2",
   "metadata": {},
   "outputs": [],
   "source": [
    "df_com = pd.merge(df_com,df_ZAU[[\"CODGEO\",\"CATEAAV2020\",'AAV2020']],left_on='CODGEO', right_on='CODGEO')"
   ]
  },
  {
   "cell_type": "code",
   "execution_count": null,
   "id": "c833a22d-2de0-4889-a728-91e1c0adc963",
   "metadata": {},
   "outputs": [],
   "source": [
    "#groupby des ZAU avec somme de la population\n",
    "df_ZAUgpy = df_com.groupby(['AAV2020'])['POPULATION'].sum().reset_index()\n",
    "\n",
    "# Jointure du groupby avec les communes\n",
    "df_com = pd.merge(df_com,df_ZAUgpy,left_on='AAV2020', right_on='AAV2020')\n",
    "\n",
    "# On renomme les colonnes\n",
    "df_com.rename(columns={\"POPULATION_x\": \"population\", \"POPULATION_y\": \"poppuzau\"},inplace=True)\n",
    "\n",
    "# On supprime les colonnes inutiles\n",
    "df_com.drop(columns=[\"INSEE_CAN\",'INSEE_ARR','ID','SIREN_EPCI'],inplace= True)"
   ]
  },
  {
   "cell_type": "code",
   "execution_count": null,
   "id": "f0b7601c-04f6-47ee-a329-2993d9f9b11c",
   "metadata": {},
   "outputs": [],
   "source": [
    "df_com = df_com.to_crs(\"EPSG:3857\")"
   ]
  },
  {
   "cell_type": "code",
   "execution_count": null,
   "id": "24c0d2f2-9116-437d-8fa8-46873570fc58",
   "metadata": {},
   "outputs": [],
   "source": [
    "df_com.to_file(\"./data/communes_2022/com_zau.gpkg\", layer='com_zau', driver=\"GPKG\")"
   ]
  },
  {
   "cell_type": "markdown",
   "id": "e1c60067-9f8c-42e0-9f4a-542eeb6df4f6",
   "metadata": {},
   "source": [
    "## Partie 2 : intersect entre CLC et com_zau. A faire sous Qgis"
   ]
  },
  {
   "cell_type": "markdown",
   "id": "94355557-5db3-475f-b75f-5f28a76c2ea6",
   "metadata": {},
   "source": [
    "## Partie 3 : Définition des environnemes. Basé sur la méthodologie développée par M.Hillal"
   ]
  },
  {
   "cell_type": "code",
   "execution_count": 11,
   "id": "fd6e7be6-248e-4268-99f3-eddec6f193b3",
   "metadata": {},
   "outputs": [],
   "source": [
    "df_com_zau_clc = gpd.GeoDataFrame.from_file(\"./data/com_zau_clc.gpkg\")"
   ]
  },
  {
   "cell_type": "code",
   "execution_count": 12,
   "id": "f942d750-d0fd-44ba-8a07-152e1e8cfb6b",
   "metadata": {},
   "outputs": [
    {
     "data": {
      "text/html": [
       "<div>\n",
       "<style scoped>\n",
       "    .dataframe tbody tr th:only-of-type {\n",
       "        vertical-align: middle;\n",
       "    }\n",
       "\n",
       "    .dataframe tbody tr th {\n",
       "        vertical-align: top;\n",
       "    }\n",
       "\n",
       "    .dataframe thead th {\n",
       "        text-align: right;\n",
       "    }\n",
       "</style>\n",
       "<table border=\"1\" class=\"dataframe\">\n",
       "  <thead>\n",
       "    <tr style=\"text-align: right;\">\n",
       "      <th></th>\n",
       "      <th>NOM</th>\n",
       "      <th>CODGEO</th>\n",
       "      <th>population</th>\n",
       "      <th>INSEE_DEP</th>\n",
       "      <th>INSEE_REG</th>\n",
       "      <th>CATEAAV2020</th>\n",
       "      <th>poppuzau</th>\n",
       "      <th>code_18</th>\n",
       "      <th>geometry</th>\n",
       "    </tr>\n",
       "  </thead>\n",
       "  <tbody>\n",
       "    <tr>\n",
       "      <th>0</th>\n",
       "      <td>Connangles</td>\n",
       "      <td>43076</td>\n",
       "      <td>137</td>\n",
       "      <td>43</td>\n",
       "      <td>84</td>\n",
       "      <td>30</td>\n",
       "      <td>4449611</td>\n",
       "      <td>242</td>\n",
       "      <td>MULTIPOLYGON (((408796.779 5669870.250, 408796...</td>\n",
       "    </tr>\n",
       "    <tr>\n",
       "      <th>1</th>\n",
       "      <td>Connangles</td>\n",
       "      <td>43076</td>\n",
       "      <td>137</td>\n",
       "      <td>43</td>\n",
       "      <td>84</td>\n",
       "      <td>30</td>\n",
       "      <td>4449611</td>\n",
       "      <td>231</td>\n",
       "      <td>MULTIPOLYGON (((404654.639 5665165.973, 404612...</td>\n",
       "    </tr>\n",
       "    <tr>\n",
       "      <th>2</th>\n",
       "      <td>Connangles</td>\n",
       "      <td>43076</td>\n",
       "      <td>137</td>\n",
       "      <td>43</td>\n",
       "      <td>84</td>\n",
       "      <td>30</td>\n",
       "      <td>4449611</td>\n",
       "      <td>231</td>\n",
       "      <td>MULTIPOLYGON (((406451.668 5671687.901, 406453...</td>\n",
       "    </tr>\n",
       "    <tr>\n",
       "      <th>3</th>\n",
       "      <td>Connangles</td>\n",
       "      <td>43076</td>\n",
       "      <td>137</td>\n",
       "      <td>43</td>\n",
       "      <td>84</td>\n",
       "      <td>30</td>\n",
       "      <td>4449611</td>\n",
       "      <td>231</td>\n",
       "      <td>MULTIPOLYGON (((406241.949 5668539.368, 406097...</td>\n",
       "    </tr>\n",
       "    <tr>\n",
       "      <th>4</th>\n",
       "      <td>Connangles</td>\n",
       "      <td>43076</td>\n",
       "      <td>137</td>\n",
       "      <td>43</td>\n",
       "      <td>84</td>\n",
       "      <td>30</td>\n",
       "      <td>4449611</td>\n",
       "      <td>242</td>\n",
       "      <td>MULTIPOLYGON (((402029.374 5665293.460, 401861...</td>\n",
       "    </tr>\n",
       "  </tbody>\n",
       "</table>\n",
       "</div>"
      ],
      "text/plain": [
       "          NOM CODGEO  population INSEE_DEP INSEE_REG  CATEAAV2020  poppuzau  \\\n",
       "0  Connangles  43076         137        43        84           30   4449611   \n",
       "1  Connangles  43076         137        43        84           30   4449611   \n",
       "2  Connangles  43076         137        43        84           30   4449611   \n",
       "3  Connangles  43076         137        43        84           30   4449611   \n",
       "4  Connangles  43076         137        43        84           30   4449611   \n",
       "\n",
       "  code_18                                           geometry  \n",
       "0     242  MULTIPOLYGON (((408796.779 5669870.250, 408796...  \n",
       "1     231  MULTIPOLYGON (((404654.639 5665165.973, 404612...  \n",
       "2     231  MULTIPOLYGON (((406451.668 5671687.901, 406453...  \n",
       "3     231  MULTIPOLYGON (((406241.949 5668539.368, 406097...  \n",
       "4     242  MULTIPOLYGON (((402029.374 5665293.460, 401861...  "
      ]
     },
     "execution_count": 12,
     "metadata": {},
     "output_type": "execute_result"
    }
   ],
   "source": [
    "df_com_zau_clc.head()"
   ]
  },
  {
   "cell_type": "code",
   "execution_count": 14,
   "id": "49ebbd27-0673-40a0-8600-843e32acd740",
   "metadata": {},
   "outputs": [],
   "source": [
    "df_com_zau_clc.rename(columns={'code_18':'CODE_CLC', 'population':'POPULATION', 'poppuzau':'POPPUZAU'},inplace = True)\n",
    "df_com_zau_clc = df_com_zau_clc.astype({\"CATEAAV2020\": str, \"CODE_CLC\": str})"
   ]
  },
  {
   "cell_type": "code",
   "execution_count": 18,
   "id": "f9c787af-0293-441c-b662-250985d630b5",
   "metadata": {},
   "outputs": [],
   "source": [
    "test = df_com_zau_clc.head(100000)"
   ]
  },
  {
   "cell_type": "code",
   "execution_count": 33,
   "id": "84ccabc1-1865-459d-b002-1980b1d39434",
   "metadata": {},
   "outputs": [],
   "source": [
    "def getPERIM(df):\n",
    "\tif (df[\"POPULATION\"] > 50000 and (df[\"CATEAAV2020\"] == '11' or df[\"CATEAAV2020\"] == '12' or df[\"CATEAAV2020\"] == '13') and df[\"POPPUZAU\"] > 200000 and (df[\"CODE_CLC\"].startswith('1') or df[\"CODE_CLC\"] == '511')) :\n",
    "\t\tENV_GEO = \"111MH\"\n",
    "\telif (df[\"POPULATION\"] > 50000 and (df[\"CATEAAV2020\"] == '11' or df[\"CATEAAV2020\"] == '12' or df[\"CATEAAV2020\"] == '13') and  100000 <= df[\"POPPUZAU\"] <= 200000  and (df[\"CODE_CLC\"].startswith('1') or df[\"CODE_CLC\"] == '511')) :\n",
    "\t\tENV_GEO = \"112MH\"\n",
    "\telif (df[\"POPULATION\"] > 50000 and (df[\"CATEAAV2020\"] == '11' or df[\"CATEAAV2020\"] == '12' or df[\"CATEAAV2020\"] == '13') and df[\"POPPUZAU\"] < 100000  and (df[\"CODE_CLC\"].startswith('1') or df[\"CODE_CLC\"] == '511') ) :\n",
    "\t\tENV_GEO = \"113MH\"\n",
    "\telif (df[\"POPULATION\"] < 50000 and (df[\"CATEAAV2020\"] == '11' or df[\"CATEAAV2020\"] == '12' or df[\"CATEAAV2020\"] == '13' or df[\"CATEAAV2020\"] == '20') and df[\"POPPUZAU\"] > 200000 and (df[\"CODE_CLC\"].startswith('1') or df[\"CODE_CLC\"] == '511')) :\n",
    "\t\tENV_GEO = \"121MH\"\n",
    "\telif (df[\"POPULATION\"] < 50000 and (df[\"CATEAAV2020\"] == '11' or df[\"CATEAAV2020\"] == '12' or df[\"CATEAAV2020\"] == '13' or df[\"CATEAAV2020\"] == '20') and  100000 <= df[\"POPPUZAU\"] <= 200000 and (df[\"CODE_CLC\"].startswith('1') or df[\"CODE_CLC\"] == '511')) :\n",
    "\t\tENV_GEO = \"122MH\"\t\n",
    "\telif (df[\"POPULATION\"] < 50000 and (df[\"CATEAAV2020\"] == '11' or df[\"CATEAAV2020\"] == '12' or df[\"CATEAAV2020\"] == '13' or df[\"CATEAAV2020\"] == '20') and  df[\"POPPUZAU\"] < 100000 and (df[\"CODE_CLC\"].startswith('1') or df[\"CODE_CLC\"] == '511')) :\n",
    "\t\tENV_GEO = \"123MH\"\t\n",
    "\telif ((df[\"CATEAAV2020\"] == '20' or df[\"CATEAAV2020\"] == '30') and (df[\"CODE_CLC\"].startswith('1') or df[\"CODE_CLC\"] == '511')) :\n",
    "\t\tENV_GEO = \"124MH\"\n",
    "\telif not (df[\"CODE_CLC\"].startswith('1') or df[\"CODE_CLC\"] == '511')  :\n",
    "\t\tENV_GEO = \"130MH\"\t\n",
    "\telse :\n",
    "\t\tENV_GEO = 'PB' \n",
    "\treturn ENV_GEO\n",
    "\n",
    "df_com_zau_clc['env_geo'] = df_com_zau_clc.apply(getPERIM, axis=1)"
   ]
  },
  {
   "cell_type": "code",
   "execution_count": 34,
   "id": "4fd0db7f-e564-4b5b-9835-a1582d4fb2ab",
   "metadata": {},
   "outputs": [
    {
     "data": {
      "text/plain": [
       "array(['130MH', '124MH', '123MH', '121MH', '111MH', '122MH', '112MH',\n",
       "       '113MH'], dtype=object)"
      ]
     },
     "execution_count": 34,
     "metadata": {},
     "output_type": "execute_result"
    }
   ],
   "source": [
    "df_com_zau_clc.env_geo.unique()"
   ]
  },
  {
   "cell_type": "code",
   "execution_count": 30,
   "id": "89949607-f67e-47d4-80d3-6c3cd3c40483",
   "metadata": {},
   "outputs": [],
   "source": [
    "df_com_zau_clc.to_file(\"./data/test.gpkg\", layer='test', driver=\"GPKG\")"
   ]
  },
  {
   "cell_type": "code",
   "execution_count": null,
   "id": "a1f5c6ce-86de-44b3-8380-71100ebabf91",
   "metadata": {},
   "outputs": [],
   "source": []
  }
 ],
 "metadata": {
  "kernelspec": {
   "display_name": "geo",
   "language": "python",
   "name": "geo"
  },
  "language_info": {
   "codemirror_mode": {
    "name": "ipython",
    "version": 3
   },
   "file_extension": ".py",
   "mimetype": "text/x-python",
   "name": "python",
   "nbconvert_exporter": "python",
   "pygments_lexer": "ipython3",
   "version": "3.7.13"
  }
 },
 "nbformat": 4,
 "nbformat_minor": 5
}
