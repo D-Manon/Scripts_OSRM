{
 "cells": [
  {
   "cell_type": "markdown",
   "id": "aecddcad-5238-4f1a-bf9e-ee351ea7c865",
   "metadata": {},
   "source": [
    "## Partie 1 : Préparation des données communales"
   ]
  },
  {
   "cell_type": "code",
   "execution_count": 83,
   "id": "158e9966-c65d-4fba-abce-7e5e3a8e154b",
   "metadata": {},
   "outputs": [],
   "source": [
    "import pandas as pd\n",
    "import geopandas as gpd\n",
    "import numpy as np\n",
    "import unicodedata,time,os,csv\n",
    "from datetime import datetime\n",
    "import requests\n",
    "import os, glob\n",
    "import io\n",
    "from zipfile import ZipFile\n",
    "from pathlib import Path"
   ]
  },
  {
   "cell_type": "code",
   "execution_count": 84,
   "id": "6027cae3-77b8-4262-b192-5a9905a8155b",
   "metadata": {},
   "outputs": [],
   "source": [
    "os.chdir('/home/manon/Documents/Scripts/1_Prepare_urban_environments/')"
   ]
  },
  {
   "cell_type": "markdown",
   "id": "5b540bbf-3d67-466c-87d3-5a5e383e7ce2",
   "metadata": {},
   "source": [
    "Chargement données des aires d'attraction des villes (INSEE, 2020)"
   ]
  },
  {
   "cell_type": "code",
   "execution_count": 85,
   "id": "9708f53e-541f-433b-8167-72f5844a313c",
   "metadata": {
    "tags": []
   },
   "outputs": [],
   "source": [
    "url =  r\"https://www.insee.fr/fr/statistiques/fichier/4803954/AAV2020_au_01-01-2022.zip\"\n",
    "r = requests.get(url, allow_redirects=True)\n",
    "\n",
    "def read_zip(zip_fn, extract_fn=None):\n",
    "    zf = ZipFile(zip_fn)\n",
    "    if extract_fn:\n",
    "        return zf.read(extract_fn)\n",
    "    else:\n",
    "        return {name:zf.read(name) for name in zf.namelist()}\n",
    "    \n",
    "open('Data/AAV2020_au_01-01-2022.zip', 'wb').write(r.content)\n",
    "df_ZAU = pd.read_excel(io.BytesIO(read_zip(r'Data/AAV2020_au_01-01-2022.zip', 'AAV2020_au_01-01-2022.xlsx')),sheet_name=1,skiprows=5)"
   ]
  },
  {
   "cell_type": "markdown",
   "id": "1ded44c0-cab4-45f7-9e93-ec6c045ef38b",
   "metadata": {},
   "source": [
    "Chargement de la couche des communes en shapefile"
   ]
  },
  {
   "cell_type": "code",
   "execution_count": 86,
   "id": "178b6f96-165e-4845-9ebe-90670bcd51fc",
   "metadata": {
    "tags": []
   },
   "outputs": [],
   "source": [
    "url =  r\"https://www.insee.fr/fr/statistiques/fichier/4803954/fonds_aav2020_2022.zip\"\n",
    "r = requests.get(url, allow_redirects=True)\n",
    "\n",
    "open('Data/fonds_aav2020_2022.zip', 'wb').write(r.content)\n",
    "ZipFile('Data/fonds_aav2020_2022.zip').extractall(path=\"./Data/\")\n",
    "ZipFile('Data/com_aav2020_2022.zip').extractall(path=\"./Data/\")\n",
    "\n",
    "df_com_shp = gpd.GeoDataFrame.from_file(\"./Data/com_aav2020_2022.shp\")\n",
    "df_com_shp.rename(columns={'codgeo':'CODGEO'},inplace=True)"
   ]
  },
  {
   "cell_type": "markdown",
   "id": "19388f46-5560-4af1-b6af-03230de85e26",
   "metadata": {},
   "source": [
    "Chargement des données de population (recensement INSEE, 2019)"
   ]
  },
  {
   "cell_type": "code",
   "execution_count": 87,
   "id": "442861f6-8fc1-40e2-a0bc-c8793bd781c1",
   "metadata": {
    "tags": []
   },
   "outputs": [],
   "source": [
    "url = r'https://www.insee.fr/fr/statistiques/fichier/6011070/ensemble.zip'\n",
    "r = requests.get(url, allow_redirects=True)\n",
    "\n",
    "open('Data/ensemble.zip', 'wb').write(r.content)\n",
    "df_com_pop = pd.read_csv(io.BytesIO(read_zip(r'Data/ensemble.zip', 'donnees_communes.csv')), delimiter=';')"
   ]
  },
  {
   "cell_type": "markdown",
   "id": "0f1b857d-a416-4666-9abe-14b31af195a0",
   "metadata": {},
   "source": [
    "Préparation des données de population : création colonne CODGEO (code INSEE) et suppression des arrondissements (pour que les données soient compatibles avec le fichier des aires d'attraction et celui des géométries)"
   ]
  },
  {
   "cell_type": "code",
   "execution_count": 88,
   "id": "0d389f20-d8b3-4612-a645-22ef3b88f003",
   "metadata": {
    "tags": []
   },
   "outputs": [],
   "source": [
    "# Code INSEE\n",
    "df_com_pop['CODDEP']=df_com_pop['CODDEP'].apply(str)\n",
    "df_com_pop['LEN_CODDEP'] = df_com_pop['CODDEP'].apply(len) \n",
    "\n",
    "df_com_pop['CODGEO'] = np.where(df_com_pop['LEN_CODDEP']<3, df_com_pop['CODDEP'] + df_com_pop['CODCOM'].apply(str).str.zfill(3), \n",
    "                            df_com_pop['CODDEP'].apply(str).str[:2] + df_com_pop['CODCOM'].apply(str).str.zfill(3))\n",
    "\n",
    "df_com_pop.drop(columns=['CODARR', 'CODCAN', 'CODCOM', 'PMUN', 'PCAP', 'LEN_CODDEP'],inplace= True)"
   ]
  },
  {
   "cell_type": "code",
   "execution_count": 89,
   "id": "329b1935-0507-4fc6-bbf7-70087fc93ef7",
   "metadata": {
    "tags": []
   },
   "outputs": [
    {
     "name": "stderr",
     "output_type": "stream",
     "text": [
      "/tmp/ipykernel_2518/477142194.py:3: SettingWithCopyWarning: \n",
      "A value is trying to be set on a copy of a slice from a DataFrame.\n",
      "Try using .loc[row_indexer,col_indexer] = value instead\n",
      "\n",
      "See the caveats in the documentation: https://pandas.pydata.org/pandas-docs/stable/user_guide/indexing.html#returning-a-view-versus-a-copy\n",
      "  df_com_arr['COM']=np.where(df_com_arr['CODDEP']=='75', 'Paris',\n",
      "/tmp/ipykernel_2518/477142194.py:5: SettingWithCopyWarning: \n",
      "A value is trying to be set on a copy of a slice from a DataFrame.\n",
      "Try using .loc[row_indexer,col_indexer] = value instead\n",
      "\n",
      "See the caveats in the documentation: https://pandas.pydata.org/pandas-docs/stable/user_guide/indexing.html#returning-a-view-versus-a-copy\n",
      "  df_com_arr['CODGEO']=np.where(df_com_arr['CODDEP']=='75', '75056',\n",
      "/tmp/ipykernel_2518/477142194.py:9: FutureWarning: The frame.append method is deprecated and will be removed from pandas in a future version. Use pandas.concat instead.\n",
      "  df_com_pop = df_com_pop.append(df_arrgpy, ignore_index=True)\n"
     ]
    }
   ],
   "source": [
    "# Gestion des arrondissements : calcul population Paris, Lyon, Marseille + suppression des arrondissements\n",
    "df_com_arr = df_com_pop[df_com_pop['COM'].str.contains('Arrondissement')]\n",
    "df_com_arr['COM']=np.where(df_com_arr['CODDEP']=='75', 'Paris',\n",
    "              np.where(df_com_arr['CODDEP']=='69', 'Lyon','Marseille'))\n",
    "df_com_arr['CODGEO']=np.where(df_com_arr['CODDEP']=='75', '75056',\n",
    "              np.where(df_com_arr['CODDEP']=='69', '69123','13055'))\n",
    "df_arrgpy = df_com_arr.groupby(['CODREG', 'REG', 'CODDEP', 'COM', 'CODGEO'])['PTOT'].sum().reset_index()                    \n",
    "\n",
    "df_com_pop = df_com_pop.append(df_arrgpy, ignore_index=True)\n",
    "df_com_pop = df_com_pop.drop(df_com_pop[df_com_pop[\"COM\"].str.contains('Arrondissement')].index)"
   ]
  },
  {
   "cell_type": "markdown",
   "id": "3281debf-104c-43d1-a91b-5715546f3be6",
   "metadata": {},
   "source": [
    "Jointure fichiers df_com_shp, df_com_pop et df_ZAU (géométrie + population + aires d'attraction)"
   ]
  },
  {
   "cell_type": "code",
   "execution_count": 90,
   "id": "d581ab65-607d-4d64-be00-80e435eda2dc",
   "metadata": {},
   "outputs": [],
   "source": [
    "df_com = pd.merge(df_com_shp,df_com_pop[[\"CODGEO\",'PTOT']],left_on='CODGEO', right_on='CODGEO')"
   ]
  },
  {
   "cell_type": "code",
   "execution_count": 91,
   "id": "3fb38edb-80af-4dbb-a798-f791f69e27c2",
   "metadata": {
    "tags": []
   },
   "outputs": [],
   "source": [
    "df_com = pd.merge(df_com,df_ZAU[[\"CODGEO\",\"CATEAAV2020\",'AAV2020']],left_on='CODGEO', right_on='CODGEO')"
   ]
  },
  {
   "cell_type": "markdown",
   "id": "f35c0813-00bd-47e9-8945-6bb0f9807bb3",
   "metadata": {},
   "source": [
    "Calcul de la population par aire d'attraction"
   ]
  },
  {
   "cell_type": "code",
   "execution_count": 92,
   "id": "c833a22d-2de0-4889-a728-91e1c0adc963",
   "metadata": {
    "tags": []
   },
   "outputs": [],
   "source": [
    "#groupby des ZAU avec somme de la population\n",
    "df_ZAUgpy = df_com.groupby(['AAV2020'])['PTOT'].sum().reset_index()\n",
    "\n",
    "# Jointure du groupby avec les communes\n",
    "df_com = pd.merge(df_com,df_ZAUgpy,left_on='AAV2020', right_on='AAV2020')\n",
    "\n",
    "# On renomme les colonnes\n",
    "df_com.rename(columns={\"PTOT_x\": \"POPULATION\", \"PTOT_y\": \"POPPUZAU\"},inplace=True)\n",
    "\n",
    "# On supprime les colonnes inutiles\n",
    "#df_com.drop(columns=[\"INSEE_CAN\",'INSEE_ARR','ID','SIREN_EPCI'],inplace= True)\n",
    "df_com.drop(columns=['aav2020'],inplace= True)"
   ]
  },
  {
   "cell_type": "code",
   "execution_count": 93,
   "id": "f0b7601c-04f6-47ee-a329-2993d9f9b11c",
   "metadata": {},
   "outputs": [],
   "source": [
    "df_com = df_com.to_crs(\"EPSG:3857\")"
   ]
  },
  {
   "cell_type": "markdown",
   "id": "997edb40-f3d9-4196-a461-bbdcc3b1e637",
   "metadata": {},
   "source": [
    "Exportation du résultat"
   ]
  },
  {
   "cell_type": "code",
   "execution_count": 95,
   "id": "24c0d2f2-9116-437d-8fa8-46873570fc58",
   "metadata": {
    "tags": []
   },
   "outputs": [
    {
     "name": "stderr",
     "output_type": "stream",
     "text": [
      "/home/manon/miniconda3/envs/stage/lib/python3.10/site-packages/geopandas/io/file.py:362: FutureWarning: pandas.Int64Index is deprecated and will be removed from pandas in a future version. Use pandas.Index with the appropriate dtype instead.\n",
      "  pd.Int64Index,\n"
     ]
    }
   ],
   "source": [
    "df_com.to_file(\"./Data/com_zau.gpkg\", layer='com_zau', driver=\"GPKG\")"
   ]
  },
  {
   "cell_type": "markdown",
   "id": "e1c60067-9f8c-42e0-9f4a-542eeb6df4f6",
   "metadata": {},
   "source": [
    "## Partie 2 : intersection entre Corine Land Cover et com_zau. A faire sous Qgis"
   ]
  }
 ],
 "metadata": {
  "kernelspec": {
   "display_name": "Python 3 (ipykernel)",
   "language": "python",
   "name": "python3"
  },
  "language_info": {
   "codemirror_mode": {
    "name": "ipython",
    "version": 3
   },
   "file_extension": ".py",
   "mimetype": "text/x-python",
   "name": "python",
   "nbconvert_exporter": "python",
   "pygments_lexer": "ipython3",
   "version": "3.10.4"
  }
 },
 "nbformat": 4,
 "nbformat_minor": 5
}
